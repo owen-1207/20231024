{
  "nbformat": 4,
  "nbformat_minor": 0,
  "metadata": {
    "colab": {
      "provenance": []
    },
    "kernelspec": {
      "name": "python3",
      "display_name": "Python 3"
    },
    "language_info": {
      "name": "python"
    }
  },
  "cells": [
    {
      "cell_type": "code",
      "execution_count": 5,
      "metadata": {
        "colab": {
          "base_uri": "https://localhost:8080/"
        },
        "id": "2PcIatVv5Rci",
        "outputId": "41d3c009-ac77-4e88-dea3-52d31d124ce3"
      },
      "outputs": [
        {
          "output_type": "stream",
          "name": "stdout",
          "text": [
            "身高(公分)：180\n",
            "體重：3\n",
            "BMI:0.9體位過輕\n"
          ]
        }
      ],
      "source": [
        "def count(h,w):\n",
        "  bmi = round(w/(h*h),1)\n",
        "  if bmi<18.5:\n",
        "    result = 'BMI:'+str(bmi)+'體位過輕'\n",
        "  elif bmi>=18.5 and bmi<=24:\n",
        "      result = 'BMI:'+str(bmi)+'體位適中'\n",
        "  elif bmi>=24 and bmi<=27:\n",
        "      result = 'BMI:'+str(bmi)+'體位過重'\n",
        "  else:\n",
        "      result = 'BMI:'+str(bmi)+'體位肥胖'\n",
        "  return result\n",
        "\n",
        "try:\n",
        "    h = float(input('身高(公分)：'))/100\n",
        "    w = float(input('體重：'))\n",
        "\n",
        "    print(count(h,w))\n",
        "\n",
        "except ValueError:\n",
        "    print(\"輸入內容錯誤\")"
      ]
    },
    {
      "cell_type": "code",
      "source": [
        "def tree(x):\n",
        "  for i in range(1,x+1):\n",
        "    print(' '*(x-i)+'*'*(2*i-1))\n",
        "  for j in range(1,6):\n",
        "    print(' '*(x-2)+'*'*3)\n",
        "\n",
        "try:\n",
        "  y=int(input('耶誕樹層數:'))\n",
        "  if(y<7):\n",
        "    raise ValueError\n",
        "  tree(y)\n",
        "except ValueError:\n",
        "    print(\"錯誤\")"
      ],
      "metadata": {
        "colab": {
          "base_uri": "https://localhost:8080/"
        },
        "id": "kKV2tuGRK4_L",
        "outputId": "bdf95481-d6f6-446a-8383-4f84c6b58feb"
      },
      "execution_count": 14,
      "outputs": [
        {
          "output_type": "stream",
          "name": "stdout",
          "text": [
            "耶誕樹層數:9\n",
            "        *\n",
            "       ***\n",
            "      *****\n",
            "     *******\n",
            "    *********\n",
            "   ***********\n",
            "  *************\n",
            " ***************\n",
            "*****************\n",
            "       ***\n",
            "       ***\n",
            "       ***\n",
            "       ***\n",
            "       ***\n"
          ]
        }
      ]
    }
  ]
}